{
 "cells": [
  {
   "cell_type": "markdown",
   "id": "cbf2179c",
   "metadata": {},
   "source": [
    "# 10 times.com"
   ]
  },
  {
   "cell_type": "markdown",
   "id": "eda66be6",
   "metadata": {},
   "source": [
    "### Step 1"
   ]
  },
  {
   "cell_type": "markdown",
   "id": "9ce3ba7e",
   "metadata": {},
   "source": [
    "Install the ChromeDriver using the link below: \n",
    "\n",
    "https://chromedriver.chromium.org/downloads \n",
    "\n",
    "Download the latest version of Chrome (in case there’s an error and the event script is not opening the chrome driver, then repeat step 1 and download the older version of it) "
   ]
  },
  {
   "cell_type": "markdown",
   "id": "f83eb638",
   "metadata": {},
   "source": [
    "### Step 2\n",
    "\n",
    "Define the destinations to scrape event data from"
   ]
  },
  {
   "cell_type": "markdown",
   "id": "87c39d95",
   "metadata": {},
   "source": [
    "1) Select locations from this list and add it to the code below and run the code line:\n",
    "\n",
    "* \"boston-us\" \n",
    "* \"chicago-us\"\n",
    "* \"lasvegas-us\"\n",
    "* \"newyork-us\"\n",
    "* \"niagarafalls-ca\"\n",
    "* \"orlando-us\"\n",
    "* \"washington-us\"\n",
    "\n",
    "2) Run script"
   ]
  },
  {
   "cell_type": "code",
   "execution_count": null,
   "id": "b5e417e2",
   "metadata": {},
   "outputs": [],
   "source": [
    "from scrape_10times_event_data_functions import EventsWebScraper\n",
    "\n",
    "destinationIDs= [\"niagarafalls-ca\", \"boston-us\"]        \n",
    "EventsWebScraper=EventsWebScraper()       \n",
    "EventsWebScraper.scrape_events_data(destinationIDs) "
   ]
  },
  {
   "cell_type": "markdown",
   "id": "93c0602e",
   "metadata": {},
   "source": [
    "### Step 3\n",
    "\n",
    "Once the script finishes running (once the code in the above cell as been executed successfully), check your folder for below file that will be automatically downloaded as a csv file: \n",
    "\n",
    "“Events_in_{destinationID}_10TimesSite_{currentDate}.csv\" "
   ]
  }
 ],
 "metadata": {
  "kernelspec": {
   "display_name": "Python 3 (ipykernel)",
   "language": "python",
   "name": "python3"
  },
  "language_info": {
   "codemirror_mode": {
    "name": "ipython",
    "version": 3
   },
   "file_extension": ".py",
   "mimetype": "text/x-python",
   "name": "python",
   "nbconvert_exporter": "python",
   "pygments_lexer": "ipython3",
   "version": "3.9.13"
  }
 },
 "nbformat": 4,
 "nbformat_minor": 5
}
